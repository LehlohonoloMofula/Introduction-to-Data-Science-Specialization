{
 "cells": [
  {
   "cell_type": "markdown",
   "id": "fe6e96c0-22dd-410b-afa4-3a6996d75e9e",
   "metadata": {},
   "source": [
    "<H1> Data Science Tools and Ecosystem </H1>"
   ]
  },
  {
   "cell_type": "markdown",
   "id": "a2680faf-349a-435a-9ec8-5de0a3c1da56",
   "metadata": {
    "tags": []
   },
   "source": [
    "<P>In this notebook, Data Science Tools and Ecosystem are summarized.</P>"
   ]
  },
  {
   "cell_type": "markdown",
   "id": "397d0160-6a96-4301-88a3-867d82e16568",
   "metadata": {
    "tags": []
   },
   "source": [
    "<P>Some of the popular languages that Data Scientists use are:</P>\n",
    "<ol>\n",
    "    <li>Julia</li>\n",
    "    <li>Python</li>\n",
    "    <li>R</li>\n",
    "</ol>"
   ]
  },
  {
   "cell_type": "markdown",
   "id": "90992bfc-35ad-4eb3-ad5e-2dd9bee3cad3",
   "metadata": {
    "tags": []
   },
   "source": [
    "<P>Some of the commonly used libraries used by Data Scientists include:</P>"
   ]
  },
  {
   "cell_type": "markdown",
   "id": "b08ad478-7b69-439e-8ce2-bbfc418ba33f",
   "metadata": {},
   "source": [
    "<ol>\n",
    "    <li>Pandas</li>\n",
    "    <li>numpy</li>\n",
    "    <li>tensorflow</li>\n",
    "</ol>"
   ]
  },
  {
   "cell_type": "markdown",
   "id": "3153b20c-aa3a-4e21-9d3a-66031cf71ada",
   "metadata": {
    "tags": []
   },
   "source": [
    "<table>\n",
    "<tr>\n",
    "    <th>Data Science Tools</th>\n",
    "</tr>\n",
    "<tr><td>Jupyter</td></tr>\n",
    "<tr><td>RStudio</td></tr>\n",
    "<tr><td>VSCode</td></tr>\n",
    "\n",
    "\n",
    "\n",
    "</table>"
   ]
  },
  {
   "cell_type": "markdown",
   "id": "d0b3dbae-e7a4-470f-96f8-31657b8359ed",
   "metadata": {},
   "source": [
    "<H3>Below are a few examples of evaluating arithmetic expressions in Python</H3>"
   ]
  },
  {
   "cell_type": "code",
   "execution_count": 1,
   "id": "1f0c7027-7d2d-4d8c-bbec-6eeb3a093132",
   "metadata": {
    "tags": []
   },
   "outputs": [],
   "source": [
    "## This a simple arithmetic expression to mutiply then add integers"
   ]
  },
  {
   "cell_type": "code",
   "execution_count": null,
   "id": "74a44f2e-4fca-4b61-9ce3-412da898f51b",
   "metadata": {},
   "outputs": [],
   "source": [
    "print()"
   ]
  }
 ],
 "metadata": {
  "kernelspec": {
   "display_name": "Python",
   "language": "python",
   "name": "conda-env-python-py"
  },
  "language_info": {
   "codemirror_mode": {
    "name": "ipython",
    "version": 3
   },
   "file_extension": ".py",
   "mimetype": "text/x-python",
   "name": "python",
   "nbconvert_exporter": "python",
   "pygments_lexer": "ipython3",
   "version": "3.7.12"
  }
 },
 "nbformat": 4,
 "nbformat_minor": 5
}
